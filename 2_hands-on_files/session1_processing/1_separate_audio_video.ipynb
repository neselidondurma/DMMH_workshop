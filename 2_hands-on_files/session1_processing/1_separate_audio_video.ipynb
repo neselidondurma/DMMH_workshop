{
 "cells": [
  {
   "cell_type": "markdown",
   "id": "657c41d6-a691-4c9d-a3c2-414cb98fab95",
   "metadata": {},
   "source": [
    "# Separate Audio from Video\n",
    "\n",
    "In this script, we will load the raw video data and extract the audio."
   ]
  },
  {
   "cell_type": "markdown",
   "id": "37c9ba2e-d7f2-4bb9-9599-d7c191c3cb34",
   "metadata": {},
   "source": [
    "### Option 1: Process a single file\n",
    "\n",
    "Select a single video file as input and specify the audio output file."
   ]
  },
  {
   "cell_type": "code",
   "execution_count": 1,
   "id": "dec7b815-f2f0-45b5-a530-a289481841de",
   "metadata": {},
   "outputs": [
    {
     "name": "stdout",
     "output_type": "stream",
     "text": [
      " Audio extracted: output/RAVDESS/audio_only/01-01-01-01-01-01-01.wav\n"
     ]
    }
   ],
   "source": [
    "\n",
    "\"\"\"\n",
    "Extract audio from MP4 file\n",
    "Install required package: pip install ffmpeg-python\n",
    "\"\"\"\n",
    "\n",
    "import ffmpeg\n",
    "import os\n",
    "\n",
    "def extract_audio(video_file, output_file):\n",
    "    \"\"\"Extract audio from video file\"\"\"\n",
    "    try:\n",
    "        # Use ffmpeg to extract audio from video\n",
    "        # - input: specify the video file to process\n",
    "        # - output: specify the audio file to create\n",
    "        # - capture_stdout/stderr: suppress ffmpeg's output\n",
    "        ffmpeg.input(video_file).output(output_file, acodec=\"pcm_s16le\").run(overwrite_output=True, capture_stdout=True, capture_stderr=True)\n",
    "        print(f\" Audio extracted: {output_file}\")\n",
    "    except Exception as e:\n",
    "        print(f\"Error: {e}\")\n",
    "\n",
    "# Define input and output files\n",
    "video_file = \"public_raw_data/RAVDESS_English_video_audio/Actor_01/01-01-01-01-01-01-01.mp4\"  # Input video file\n",
    "audio_file = \"output/RAVDESS/audio_only/01-01-01-01-01-01-01.wav\"  # Output audio file\n",
    "\n",
    "# Extract the audio\n",
    "extract_audio(video_file, audio_file)"
   ]
  },
  {
   "cell_type": "markdown",
   "id": "50270411-5626-40db-89ac-5ece0213e5af",
   "metadata": {},
   "source": [
    "### Option 2: Process all files in a folder\n",
    "\n",
    "Select a folder from one Actor as input and specify your output folder."
   ]
  },
  {
   "cell_type": "code",
   "execution_count": 2,
   "id": "28447aa6-3519-4447-9e15-14edb4b848c8",
   "metadata": {},
   "outputs": [
    {
     "name": "stdout",
     "output_type": "stream",
     "text": [
      "Skipping 01-01-04-01-01-01-01.mp4: audio already exists\n",
      "Skipping 01-01-05-02-01-01-01.mp4: audio already exists\n",
      "Skipping 01-01-06-02-01-01-01.mp4: audio already exists\n",
      "Skipping 01-01-08-02-01-01-01.mp4: audio already exists\n",
      "Skipping 01-01-02-01-01-01-01.mp4: audio already exists\n",
      "Skipping 01-01-06-01-01-01-01.mp4: audio already exists\n",
      "Skipping 01-01-02-02-01-01-01.mp4: audio already exists\n",
      "Skipping 01-01-03-01-01-01-01.mp4: audio already exists\n",
      "Skipping 01-01-07-01-01-01-01.mp4: audio already exists\n",
      "Skipping 01-01-07-02-01-01-01.mp4: audio already exists\n",
      "Skipping 01-01-08-01-01-01-01.mp4: audio already exists\n",
      "Skipping 01-01-04-02-01-01-01.mp4: audio already exists\n",
      "Skipping 01-01-05-01-01-01-01.mp4: audio already exists\n",
      "Skipping 01-01-03-02-01-01-01.mp4: audio already exists\n",
      "Skipping 01-01-01-01-01-01-01.mp4: audio already exists\n",
      "All files processed!\n"
     ]
    }
   ],
   "source": [
    "\"\"\"\n",
    "Extract audio from all MP4 files in a directory\n",
    "Install required package: pip install ffmpeg-python\n",
    "\"\"\"\n",
    "\n",
    "import ffmpeg\n",
    "import os\n",
    "\n",
    "def extract_audio(video_file, audio_file):\n",
    "    \"\"\"Extract audio from single video file\"\"\"\n",
    "    try:\n",
    "        # Use ffmpeg to convert video to audio\n",
    "        # - capture_stdout/stderr: suppress ffmpeg's output\n",
    "        ffmpeg.input(video_file).output(audio_file, acodec=\"pcm_s16le\").run(overwrite_output=True, capture_stdout=True, capture_stderr=True)\n",
    "        print(f\" Audio Extracted: {audio_file}\")\n",
    "    except ffmpeg.Error as e:\n",
    "        print(f\"Error processing {video_file}: {e}\")\n",
    "\n",
    "def process_directory(input_dir, output_dir):\n",
    "    \"\"\"Extract audio from all MP4 files in directory\"\"\"\n",
    "    # Create output directory if it doesn't exist\n",
    "    os.makedirs(output_dir, exist_ok=True)\n",
    "    \n",
    "    # Loop through all files in the input directory\n",
    "    for file in os.listdir(input_dir):\n",
    "        # Only process MP4 files\n",
    "        if not file.endswith(\".mp4\"):\n",
    "            continue\n",
    "            \n",
    "        # Create full paths for input and output files\n",
    "        video_file = os.path.join(input_dir, file)\n",
    "        base_name = os.path.splitext(file)[0]  # Remove .mp4 extension\n",
    "        audio_file = os.path.join(output_dir, f\"{base_name}_audio.wav\")\n",
    "        \n",
    "        # Skip if audio file already exists\n",
    "        if os.path.exists(audio_file):\n",
    "            print(f\"Skipping {file}: audio already exists\")\n",
    "            continue\n",
    "            \n",
    "        # Process the video file\n",
    "        print(f\"Processing {file}...\")\n",
    "        extract_audio(video_file, audio_file)\n",
    "\n",
    "# Define input and output directories\n",
    "input_folder = \"public_raw_data/RAVDESS_English_video_audio/Actor_01\" # Replace with your folder\n",
    "output_folder = \"output/RAVDESS/audio_only\"\n",
    "\n",
    "# Process all videos in the directory\n",
    "process_directory(input_folder, output_folder)\n",
    "print(\"All files processed!\")"
   ]
  },
  {
   "cell_type": "code",
   "execution_count": null,
   "id": "ac8d0995",
   "metadata": {},
   "outputs": [],
   "source": []
  }
 ],
 "metadata": {
  "kernelspec": {
   "display_name": "openwillis_env",
   "language": "python",
   "name": "python3"
  },
  "language_info": {
   "codemirror_mode": {
    "name": "ipython",
    "version": 3
   },
   "file_extension": ".py",
   "mimetype": "text/x-python",
   "name": "python",
   "nbconvert_exporter": "python",
   "pygments_lexer": "ipython3",
   "version": "3.10.18"
  }
 },
 "nbformat": 4,
 "nbformat_minor": 5
}
